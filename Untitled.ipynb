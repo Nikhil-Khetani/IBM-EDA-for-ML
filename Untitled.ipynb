{
 "cells": [
  {
   "cell_type": "code",
   "execution_count": null,
   "metadata": {},
   "outputs": [],
   "source": []
  },
  {
   "cell_type": "markdown",
   "metadata": {},
   "source": [
    "Sections required in your report:\n",
    "\n",
    "- Brief description of the data set and a summary of its attributes\n",
    "- Initial plan for data exploration\n",
    "- Actions taken for data cleaning and feature engineering\n",
    "- Key Findings and Insights, which synthesizes the results of Exploratory Data Analysis in an insightful and actionable manner\n",
    "- Formulating at least 3 hypothesis about this data\n",
    "- Conducting a formal significance test for one of the hypotheses and discuss the results \n",
    "- Suggestions for next steps in analyzing this data\n",
    "- A paragraph that summarizes the quality of this data set and a request for additional data if needed"
   ]
  },
  {
   "cell_type": "code",
   "execution_count": null,
   "metadata": {},
   "outputs": [],
   "source": [
    "import pandas as pd\n"
   ]
  }
 ],
 "metadata": {
  "kernelspec": {
   "display_name": "Python 3",
   "language": "python",
   "name": "python3"
  },
  "language_info": {
   "codemirror_mode": {
    "name": "ipython",
    "version": 3
   },
   "file_extension": ".py",
   "mimetype": "text/x-python",
   "name": "python",
   "nbconvert_exporter": "python",
   "pygments_lexer": "ipython3",
   "version": "3.8.3"
  }
 },
 "nbformat": 4,
 "nbformat_minor": 4
}
